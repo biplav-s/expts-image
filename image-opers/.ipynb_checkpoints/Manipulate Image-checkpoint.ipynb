{
 "cells": [
  {
   "cell_type": "code",
   "execution_count": 1,
   "metadata": {},
   "outputs": [],
   "source": [
    "## References used:\n",
    "# https://www.pluralsight.com/guides/importing-image-data-into-numpy-arrays\n",
    "# https://scikit-image.org/docs/dev/user_guide/numpy_images.html\n",
    "# https://pillow.readthedocs.io/en/stable/handbook/concepts.html#concept-modes\n",
    "# https://pillow.readthedocs.io/en/stable/reference/Image.html"
   ]
  },
  {
   "cell_type": "code",
   "execution_count": 2,
   "metadata": {},
   "outputs": [],
   "source": [
    "## Install if needed\n",
    "# !pip install Pillow"
   ]
  },
  {
   "cell_type": "code",
   "execution_count": 3,
   "metadata": {},
   "outputs": [
    {
     "name": "stdout",
     "output_type": "stream",
     "text": [
      "Pillow Version: 7.2.0\n"
     ]
    }
   ],
   "source": [
    "# check Pillow version number\n",
    "import PIL\n",
    "print('Pillow Version:', PIL.__version__)\n",
    "from PIL import Image"
   ]
  },
  {
   "cell_type": "code",
   "execution_count": 4,
   "metadata": {},
   "outputs": [
    {
     "name": "stdout",
     "output_type": "stream",
     "text": [
      "JPEG\n",
      "(800, 450)\n",
      "RGB\n"
     ]
    }
   ],
   "source": [
    "# Open file\n",
    "file = \"data/koala.jpg\"\n",
    "image = Image.open(file)\n",
    "\n",
    "# Image information\n",
    "print(image.format)\n",
    "print(image.size)\n",
    "print(image.mode)"
   ]
  },
  {
   "cell_type": "code",
   "execution_count": 5,
   "metadata": {},
   "outputs": [],
   "source": [
    "# show the image\n",
    "image.show()"
   ]
  },
  {
   "cell_type": "markdown",
   "metadata": {},
   "source": [
    "## Manipulate using Numpy"
   ]
  },
  {
   "cell_type": "code",
   "execution_count": 8,
   "metadata": {},
   "outputs": [],
   "source": [
    "import numpy as np\n",
    "from numpy import asarray"
   ]
  },
  {
   "cell_type": "code",
   "execution_count": 12,
   "metadata": {},
   "outputs": [
    {
     "name": "stdout",
     "output_type": "stream",
     "text": [
      "<class 'numpy.ndarray'>\n"
     ]
    }
   ],
   "source": [
    "# To gray scake\n",
    "im = np.array(image.convert('L')) \n",
    "print(type(im))"
   ]
  },
  {
   "cell_type": "code",
   "execution_count": 14,
   "metadata": {},
   "outputs": [],
   "source": [
    "# Create Pillow image from data\n",
    "image2 = Image.fromarray(im)\n",
    "image2.show()"
   ]
  },
  {
   "cell_type": "code",
   "execution_count": 12,
   "metadata": {},
   "outputs": [
    {
     "name": "stdout",
     "output_type": "stream",
     "text": [
      "<class 'numpy.ndarray'>\n",
      "(450, 800, 3)\n"
     ]
    }
   ],
   "source": [
    "# Convert image to numpy array\n",
    "data = asarray(image)\n",
    "print(type(data))\n",
    "print(data.shape)"
   ]
  },
  {
   "cell_type": "code",
   "execution_count": 13,
   "metadata": {},
   "outputs": [
    {
     "name": "stdout",
     "output_type": "stream",
     "text": [
      "<class 'PIL.Image.Image'>\n",
      "None\n",
      "(800, 450)\n",
      "RGB\n"
     ]
    }
   ],
   "source": [
    "# Create Pillow image from data\n",
    "image2 = Image.fromarray(data)\n",
    "\n",
    "# Image information\n",
    "print(type(image2))\n",
    "print(image2.format)\n",
    "print(image2.size)\n",
    "print(image2.mode)"
   ]
  },
  {
   "cell_type": "code",
   "execution_count": 14,
   "metadata": {},
   "outputs": [],
   "source": [
    "# show the image\n",
    "image2.show()"
   ]
  }
 ],
 "metadata": {
  "kernelspec": {
   "display_name": "Python 3",
   "language": "python",
   "name": "python3"
  },
  "language_info": {
   "codemirror_mode": {
    "name": "ipython",
    "version": 3
   },
   "file_extension": ".py",
   "mimetype": "text/x-python",
   "name": "python",
   "nbconvert_exporter": "python",
   "pygments_lexer": "ipython3",
   "version": "3.8.3"
  }
 },
 "nbformat": 4,
 "nbformat_minor": 4
}
